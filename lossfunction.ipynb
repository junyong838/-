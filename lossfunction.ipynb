{
  "cells": [
    {
      "cell_type": "markdown",
      "metadata": {
        "id": "view-in-github",
        "colab_type": "text"
      },
      "source": [
        "<a href=\"https://colab.research.google.com/github/junyong838/-/blob/main/lossfunction.ipynb\" target=\"_parent\"><img src=\"https://colab.research.google.com/assets/colab-badge.svg\" alt=\"Open In Colab\"/></a>"
      ]
    },
    {
      "cell_type": "markdown",
      "metadata": {
        "id": "4MCwXlE7X01R"
      },
      "source": [
        "인공지능 HW #3\n",
        "\n",
        "이름: 최준용\n",
        "\n",
        "학번: 202310991\n",
        "\n",
        "학과: 컴퓨터과학과"
      ]
    },
    {
      "cell_type": "code",
      "execution_count": 3,
      "metadata": {
        "id": "PkImqgDWcDDE"
      },
      "outputs": [],
      "source": [
        "import numpy as np\n",
        "\n",
        "class LossFunc:\n",
        "  def __init__(self):\n",
        "    pass\n",
        "  def hinge_loss(self,W, X_tr, y_tr):\n",
        "    s = W.dot(X_tr)\n",
        "    y_s = s[y_tr, np.arange(X_tr.shape[1])]\n",
        "    margin = np.maximum(0, s - y_s +1)\n",
        "    margin[y_tr, np.arange(X_tr.shape[1])] = 0\n",
        "    loss_i = np.sum(margin, axis = 0)\n",
        "    return np.sum(loss_i)\n",
        "  def softmax_loss(self,W, X_tr, y_tr):\n",
        "    s = W.dot(X_tr)\n",
        "    exp_s = np.exp(s)\n",
        "    y_s = exp_s[y_tr, np.arange(X_tr.shape[1])]\n",
        "    exp_total = np.sum(exp_s, axis = 0)\n",
        "    probability = y_s / exp_total\n",
        "    loss_i = np.log(probability) * -1\n",
        "    return np.sum(loss_i)"
      ]
    },
    {
      "cell_type": "code",
      "execution_count": null,
      "metadata": {
        "colab": {
          "base_uri": "https://localhost:8080/"
        },
        "id": "3RvsQsYOipUX",
        "outputId": "d716503f-71aa-4456-ff16-ff31ff636a08"
      },
      "outputs": [
        {
          "name": "stdout",
          "output_type": "stream",
          "text": [
            "Drive already mounted at /content/drive; to attempt to forcibly remount, call drive.mount(\"/content/drive\", force_remount=True).\n"
          ]
        }
      ],
      "source": [
        "from google.colab import drive\n",
        "drive.mount('/content/drive')"
      ]
    },
    {
      "cell_type": "code",
      "execution_count": 4,
      "metadata": {
        "id": "X5AWSWDvi7-W"
      },
      "outputs": [],
      "source": [
        "def unpickle(file):\n",
        "  import pickle\n",
        "  with open('/content/drive/MyDrive/인공지능/cifar-10-batches-py/'+file, 'rb') as fo:\n",
        "    dict = pickle.load(fo, encoding='bytes')\n",
        "  return dict\n"
      ]
    },
    {
      "cell_type": "code",
      "execution_count": 5,
      "metadata": {
        "id": "42WEF7qbjAi_"
      },
      "outputs": [],
      "source": [
        "bat1 = unpickle('data_batch_1')\n",
        "bat2 = unpickle('data_batch_2')\n",
        "bat3 = unpickle('data_batch_3')\n",
        "bat4 = unpickle('data_batch_4')\n",
        "bat5 = unpickle('data_batch_5')\n",
        "bat_test = unpickle('test_batch')\n",
        "\n",
        "data = np.concatenate([bat1[b'data'], bat2[b'data'], bat3[b'data'],bat4[b'data'],\n",
        "bat5[b'data']])\n",
        "labels = np.concatenate([bat1[b'labels'], bat2[b'labels'],\n",
        "bat3[b'labels'],bat4[b'labels'], bat5[b'labels']])"
      ]
    },
    {
      "cell_type": "code",
      "execution_count": 6,
      "metadata": {
        "id": "-vUpnKH4j6VB"
      },
      "outputs": [],
      "source": [
        "train_data = data.T\n",
        "train_label = labels\n",
        "test_data = bat_test[b'data']\n",
        "test_label = bat_test[b'labels']"
      ]
    },
    {
      "cell_type": "code",
      "execution_count": 8,
      "metadata": {
        "colab": {
          "base_uri": "https://localhost:8080/",
          "height": 0
        },
        "id": "9DCz5wZU-i2e",
        "outputId": "ed27a0b0-894e-444f-a567-67c09d5781e7"
      },
      "outputs": [
        {
          "output_type": "stream",
          "name": "stdout",
          "text": [
            "hinge_loss's attempt 1\n",
            "in attempt 0 the loss was 522907.996028,best 522907.996028\n",
            "in attempt 1 the loss was 498801.029088,best 498801.029088\n",
            "in attempt 2 the loss was 478694.525686,best 478694.525686\n",
            "in attempt 4 the loss was 475566.585473,best 475566.585473\n",
            "in attempt 5 the loss was 464174.491433,best 464174.491433\n",
            "in attempt 12 the loss was 455952.931449,best 455952.931449\n",
            "in attempt 36 the loss was 455729.999785,best 455729.999785\n",
            "in attempt 51 the loss was 451289.420183,best 451289.420183\n",
            "in attempt 160 the loss was 433068.206924,best 433068.206924\n",
            "The accuracy is 10.570000 \n",
            "\n",
            "hinge_loss's attempt 2\n",
            "in attempt 0 the loss was 459822.574935,best 459822.574935\n",
            "in attempt 35 the loss was 452089.875089,best 452089.875089\n",
            "in attempt 101 the loss was 446807.902365,best 446807.902365\n",
            "in attempt 102 the loss was 441286.116056,best 441286.116056\n",
            "in attempt 202 the loss was 439715.815523,best 439715.815523\n",
            "in attempt 242 the loss was 436800.417369,best 436800.417369\n",
            "in attempt 522 the loss was 434752.621128,best 434752.621128\n",
            "in attempt 541 the loss was 433140.284010,best 433140.284010\n",
            "The accuracy is 12.530000 \n",
            "\n",
            "hinge_loss's attempt 3\n",
            "in attempt 0 the loss was 478223.761937,best 478223.761937\n",
            "in attempt 6 the loss was 455476.831030,best 455476.831030\n",
            "in attempt 36 the loss was 436103.879826,best 436103.879826\n",
            "in attempt 117 the loss was 435873.994512,best 435873.994512\n",
            "The accuracy is 9.310000 \n",
            "\n",
            "softmax_loss's attempt 1\n",
            "in attempt 0 the loss was 126317.589429,best 126317.589429\n",
            "in attempt 3 the loss was 123695.928009,best 123695.928009\n",
            "in attempt 9 the loss was 121645.075892,best 121645.075892\n",
            "in attempt 30 the loss was 121230.426123,best 121230.426123\n",
            "in attempt 35 the loss was 119542.297339,best 119542.297339\n",
            "in attempt 119 the loss was 119210.444233,best 119210.444233\n",
            "in attempt 121 the loss was 117758.209893,best 117758.209893\n",
            "in attempt 822 the loss was 117273.555665,best 117273.555665\n",
            "The accuracy is 13.710000 \n",
            "\n",
            "softmax_loss's attempt 2\n",
            "in attempt 0 the loss was 126014.907093,best 126014.907093\n",
            "in attempt 1 the loss was 125391.126799,best 125391.126799\n",
            "in attempt 4 the loss was 125164.059100,best 125164.059100\n",
            "in attempt 7 the loss was 124482.601587,best 124482.601587\n",
            "in attempt 9 the loss was 118548.488032,best 118548.488032\n",
            "in attempt 300 the loss was 118424.850612,best 118424.850612\n",
            "in attempt 394 the loss was 117602.920503,best 117602.920503\n",
            "The accuracy is 8.480000 \n",
            "\n",
            "softmax_loss's attempt 3\n",
            "in attempt 0 the loss was 126168.408086,best 126168.408086\n",
            "in attempt 1 the loss was 125237.624269,best 125237.624269\n",
            "in attempt 3 the loss was 124548.796164,best 124548.796164\n",
            "in attempt 4 the loss was 123691.696773,best 123691.696773\n",
            "in attempt 7 the loss was 121326.206620,best 121326.206620\n",
            "in attempt 18 the loss was 121176.970488,best 121176.970488\n",
            "in attempt 36 the loss was 118976.796761,best 118976.796761\n",
            "in attempt 42 the loss was 118792.055038,best 118792.055038\n",
            "in attempt 249 the loss was 117453.440827,best 117453.440827\n",
            "in attempt 619 the loss was 117237.803110,best 117237.803110\n",
            "The accuracy is 10.080000 \n",
            "\n",
            "Done\n"
          ]
        }
      ],
      "source": [
        "LF = LossFunc()\n",
        "h_acc = 0\n",
        "s_acc = 0\n",
        "for x in [\"hinge_loss\", \"softmax_loss\"]: # hinge / softmax 반복\n",
        "  for y in range(1, 4): # 각각 3번씩 실행\n",
        "    bestloss = float(\"inf\")\n",
        "    num = 0 # 1000번 반복횟수 초기화\n",
        "    print(\"%s's attempt %d\" %(x, y))\n",
        "    for num in range(1000):\n",
        "      W = np.random.randn(10, 3072) * 0.0001\n",
        "      if(x==\"hinge_loss\"): # hinge / softmax에 따라 loss값 도출\n",
        "        loss = LF.hinge_loss(W, train_data, train_label)\n",
        "      else:\n",
        "        loss = LF.softmax_loss(W, train_data, train_label)\n",
        "      if loss < bestloss:\n",
        "        bestloss = loss\n",
        "        bestW = W\n",
        "        print(\"in attempt %d the loss was %f,best %f\" % (num, loss, bestloss))\n",
        "    scores = bestW.dot(test_data.T)\n",
        "    Y_predict = np.argmax(scores, axis=0)\n",
        "    acc = np.mean(Y_predict == test_label) *100 # 1000번 반복하며 찾은 W값의 정확도\n",
        "    print(\"The accuracy is %f \\n\" % acc)\n",
        "    if(x==\"hinge_loss\"): #각각의 평균을 구하기 위해 따로 더하기\n",
        "      h_acc += acc\n",
        "    else:\n",
        "      s_acc += acc\n",
        "h_mean = h_acc /3 #평균\n",
        "s_mean = s_acc /3\n",
        "print(\"Done\")"
      ]
    },
    {
      "cell_type": "code",
      "execution_count": 9,
      "metadata": {
        "colab": {
          "base_uri": "https://localhost:8080/",
          "height": 489
        },
        "id": "EDG6aP78lX7r",
        "outputId": "c61dc501-26e0-456c-cd80-a22c12bcf9c1"
      },
      "outputs": [
        {
          "output_type": "display_data",
          "data": {
            "text/plain": [
              "<Figure size 640x480 with 1 Axes>"
            ],
            "image/png": "[encoded data removed]"
          },
          "metadata": {}
        },
        {
          "output_type": "stream",
          "name": "stdout",
          "text": [
            "hinge loss accuracy mean: 10.803333\n",
            "softmax loss accuracy mean: 10.756667\n"
          ]
        }
      ],
      "source": [
        "import matplotlib.pyplot as plt\n",
        "import numpy as np\n",
        "x = [\"hinge loss\", \"softmax loss\"]\n",
        "years = np.arange(100)\n",
        "values = [h_mean, s_mean]\n",
        "\n",
        "plt.title('accuracy')\n",
        "plt.bar(x, values, width = 0.3)\n",
        "plt.ylabel('accuracy(%)')\n",
        "\n",
        "plt.show()\n",
        "\n",
        "print(\"hinge loss accuracy mean: %f\" %h_mean)\n",
        "print(\"softmax loss accuracy mean: %f\" %s_mean)"
      ]
    },
    {
      "cell_type": "markdown",
      "source": [
        "."
      ],
      "metadata": {
        "id": "SMyjUmEzFlac"
      }
    },
    {
      "cell_type": "code",
      "source": [],
      "metadata": {
        "id": "jCNu8VGaFk2c"
      },
      "execution_count": null,
      "outputs": []
    }
  ],
  "metadata": {
    "colab": {
      "provenance": [],
      "mount_file_id": "1GwCRj0r8BXmHv7-Tgj4EKQLm4MtV_j3z",
      "authorship_tag": "ABX9TyNTBPTeNZe2pVEK8lDlFEh6",
      "include_colab_link": true
    },
    "kernelspec": {
      "display_name": "Python 3",
      "name": "python3"
    },
    "language_info": {
      "name": "python"
    }
  },
  "nbformat": 4,
  "nbformat_minor": 0
}